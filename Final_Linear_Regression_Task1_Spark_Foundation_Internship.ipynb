{
  "nbformat": 4,
  "nbformat_minor": 0,
  "metadata": {
    "colab": {
      "name": "Final_Linear_Regression_Task1_Spark_Foundation_Internship.ipynb",
      "provenance": [],
      "collapsed_sections": [],
      "toc_visible": true,
      "include_colab_link": true
    },
    "kernelspec": {
      "name": "python3",
      "display_name": "Python 3"
    }
  },
  "cells": [
    {
      "cell_type": "markdown",
      "metadata": {
        "id": "view-in-github",
        "colab_type": "text"
      },
      "source": [
        "<a href=\"https://colab.research.google.com/github/abel-keya/Prediction-using-Supervised-ML/blob/main/Final_Linear_Regression_Task1_Spark_Foundation_Internship.ipynb\" target=\"_parent\"><img src=\"https://colab.research.google.com/assets/colab-badge.svg\" alt=\"Open In Colab\"/></a>"
      ]
    },
    {
      "cell_type": "markdown",
      "metadata": {
        "id": "YRVJO0G4RHy9"
      },
      "source": [
        "# Prediction using Supervised ML"
      ]
    },
    {
      "cell_type": "markdown",
      "metadata": {
        "id": "tFJO08-NJSwD"
      },
      "source": [
        "### Author: Abel Keya.\n",
        "Copyright Abel Keya., 2021\n",
        "\n",
        "**Not for distribution.**"
      ]
    },
    {
      "cell_type": "markdown",
      "metadata": {
        "id": "wjWQFZcjIrGU"
      },
      "source": [
        "## **Introduction**\n",
        ">>\n",
        "In this task i will demonstrate how to use Python Scikit-Learn library for machine learning to implement \n",
        ">>\n",
        "regression functions. It is a simple linear regression involving two variables."
      ]
    },
    {
      "cell_type": "markdown",
      "metadata": {
        "id": "1v1gjKS53w3x"
      },
      "source": [
        "## Business Understanding"
      ]
    },
    {
      "cell_type": "markdown",
      "metadata": {
        "id": "lcsZTDFO31GU"
      },
      "source": [
        "### **Simple Linear Regression**\n",
        ">>\n",
        "In this regression task it is requied to predict the percentage of marks that a student is expected to score \n",
        ">>\n",
        "based upon the number of hours they studied\n"
      ]
    },
    {
      "cell_type": "markdown",
      "metadata": {
        "id": "g2juFFGS5rVG"
      },
      "source": [
        "## Data Understanding"
      ]
    },
    {
      "cell_type": "markdown",
      "metadata": {
        "id": "6v9uwkZeMEaY"
      },
      "source": [
        "The dataset was provided by spark foundation and the  dataset had the following variables:\n",
        ">>\n",
        "* Hours -\t number of hours studied\t\n",
        "*\tScore -\tThe score marks by the students\n"
      ]
    },
    {
      "cell_type": "markdown",
      "metadata": {
        "id": "cgRRVrii74JH"
      },
      "source": [
        "**Import the necessary Libraries**"
      ]
    },
    {
      "cell_type": "code",
      "metadata": {
        "id": "HuRyPb0RcMt0"
      },
      "source": [
        "# Import necessary libraries.\n",
        "#\n",
        "import pandas as pd\n",
        "import numpy as np\n",
        "import seaborn as sns\n",
        "import plotly as pty\n",
        "import matplotlib.pyplot as plt\n",
        "%matplotlib inline"
      ],
      "execution_count": 91,
      "outputs": []
    },
    {
      "cell_type": "markdown",
      "metadata": {
        "id": "xy2as-TWUKtJ"
      },
      "source": [
        "## Loading the Dataset."
      ]
    },
    {
      "cell_type": "markdown",
      "metadata": {
        "id": "bhZelf9i8EeM"
      },
      "source": [
        "**Load the dataset and preview it using Pandas Profile Report**"
      ]
    },
    {
      "cell_type": "code",
      "metadata": {
        "id": "nKAi9lpPCLqi"
      },
      "source": [
        "# Reading data from remote link\n",
        "url = \"http://bit.ly/w-data\"\n",
        "df = pd.read_csv(url)"
      ],
      "execution_count": 92,
      "outputs": []
    },
    {
      "cell_type": "code",
      "metadata": {
        "id": "x0efnCOdG20B",
        "colab": {
          "base_uri": "https://localhost:8080/"
        },
        "outputId": "6dc1fbc7-eae5-4e07-ec34-894507650374"
      },
      "source": [
        "# Get the size of the dataframe.\n",
        "#\n",
        "df.shape"
      ],
      "execution_count": 93,
      "outputs": [
        {
          "output_type": "execute_result",
          "data": {
            "text/plain": [
              "(25, 2)"
            ]
          },
          "metadata": {
            "tags": []
          },
          "execution_count": 93
        }
      ]
    },
    {
      "cell_type": "code",
      "metadata": {
        "colab": {
          "base_uri": "https://localhost:8080/",
          "height": 206
        },
        "id": "xIsg_P3lC8EM",
        "outputId": "a5ca36af-43cd-42e0-e7d1-00519f931309"
      },
      "source": [
        "#previewing the top of the dataset\n",
        "df.head()"
      ],
      "execution_count": 94,
      "outputs": [
        {
          "output_type": "execute_result",
          "data": {
            "text/html": [
              "<div>\n",
              "<style scoped>\n",
              "    .dataframe tbody tr th:only-of-type {\n",
              "        vertical-align: middle;\n",
              "    }\n",
              "\n",
              "    .dataframe tbody tr th {\n",
              "        vertical-align: top;\n",
              "    }\n",
              "\n",
              "    .dataframe thead th {\n",
              "        text-align: right;\n",
              "    }\n",
              "</style>\n",
              "<table border=\"1\" class=\"dataframe\">\n",
              "  <thead>\n",
              "    <tr style=\"text-align: right;\">\n",
              "      <th></th>\n",
              "      <th>Hours</th>\n",
              "      <th>Scores</th>\n",
              "    </tr>\n",
              "  </thead>\n",
              "  <tbody>\n",
              "    <tr>\n",
              "      <th>0</th>\n",
              "      <td>2.5</td>\n",
              "      <td>21</td>\n",
              "    </tr>\n",
              "    <tr>\n",
              "      <th>1</th>\n",
              "      <td>5.1</td>\n",
              "      <td>47</td>\n",
              "    </tr>\n",
              "    <tr>\n",
              "      <th>2</th>\n",
              "      <td>3.2</td>\n",
              "      <td>27</td>\n",
              "    </tr>\n",
              "    <tr>\n",
              "      <th>3</th>\n",
              "      <td>8.5</td>\n",
              "      <td>75</td>\n",
              "    </tr>\n",
              "    <tr>\n",
              "      <th>4</th>\n",
              "      <td>3.5</td>\n",
              "      <td>30</td>\n",
              "    </tr>\n",
              "  </tbody>\n",
              "</table>\n",
              "</div>"
            ],
            "text/plain": [
              "   Hours  Scores\n",
              "0    2.5      21\n",
              "1    5.1      47\n",
              "2    3.2      27\n",
              "3    8.5      75\n",
              "4    3.5      30"
            ]
          },
          "metadata": {
            "tags": []
          },
          "execution_count": 94
        }
      ]
    },
    {
      "cell_type": "code",
      "metadata": {
        "colab": {
          "base_uri": "https://localhost:8080/",
          "height": 206
        },
        "id": "ORjDrXkvC97d",
        "outputId": "a6b43f8e-66b7-41d5-c127-2ecc31a7f02a"
      },
      "source": [
        "#previewing the bottom of the dataset\n",
        "df.tail()"
      ],
      "execution_count": 95,
      "outputs": [
        {
          "output_type": "execute_result",
          "data": {
            "text/html": [
              "<div>\n",
              "<style scoped>\n",
              "    .dataframe tbody tr th:only-of-type {\n",
              "        vertical-align: middle;\n",
              "    }\n",
              "\n",
              "    .dataframe tbody tr th {\n",
              "        vertical-align: top;\n",
              "    }\n",
              "\n",
              "    .dataframe thead th {\n",
              "        text-align: right;\n",
              "    }\n",
              "</style>\n",
              "<table border=\"1\" class=\"dataframe\">\n",
              "  <thead>\n",
              "    <tr style=\"text-align: right;\">\n",
              "      <th></th>\n",
              "      <th>Hours</th>\n",
              "      <th>Scores</th>\n",
              "    </tr>\n",
              "  </thead>\n",
              "  <tbody>\n",
              "    <tr>\n",
              "      <th>20</th>\n",
              "      <td>2.7</td>\n",
              "      <td>30</td>\n",
              "    </tr>\n",
              "    <tr>\n",
              "      <th>21</th>\n",
              "      <td>4.8</td>\n",
              "      <td>54</td>\n",
              "    </tr>\n",
              "    <tr>\n",
              "      <th>22</th>\n",
              "      <td>3.8</td>\n",
              "      <td>35</td>\n",
              "    </tr>\n",
              "    <tr>\n",
              "      <th>23</th>\n",
              "      <td>6.9</td>\n",
              "      <td>76</td>\n",
              "    </tr>\n",
              "    <tr>\n",
              "      <th>24</th>\n",
              "      <td>7.8</td>\n",
              "      <td>86</td>\n",
              "    </tr>\n",
              "  </tbody>\n",
              "</table>\n",
              "</div>"
            ],
            "text/plain": [
              "    Hours  Scores\n",
              "20    2.7      30\n",
              "21    4.8      54\n",
              "22    3.8      35\n",
              "23    6.9      76\n",
              "24    7.8      86"
            ]
          },
          "metadata": {
            "tags": []
          },
          "execution_count": 95
        }
      ]
    },
    {
      "cell_type": "code",
      "metadata": {
        "id": "x2cG_4A1TvbT",
        "colab": {
          "base_uri": "https://localhost:8080/"
        },
        "outputId": "0628bafd-a86d-4a5c-d9a6-993af2762a20"
      },
      "source": [
        "#checking the Data types\n",
        "df.dtypes"
      ],
      "execution_count": 96,
      "outputs": [
        {
          "output_type": "execute_result",
          "data": {
            "text/plain": [
              "Hours     float64\n",
              "Scores      int64\n",
              "dtype: object"
            ]
          },
          "metadata": {
            "tags": []
          },
          "execution_count": 96
        }
      ]
    },
    {
      "cell_type": "markdown",
      "metadata": {
        "id": "eF8eQwMPUQBU"
      },
      "source": [
        "## Data Cleaning."
      ]
    },
    {
      "cell_type": "markdown",
      "metadata": {
        "id": "vQFBh-cd8210"
      },
      "source": [
        "**Dealing with Null Values**"
      ]
    },
    {
      "cell_type": "code",
      "metadata": {
        "id": "BbYY5DEqUSKx",
        "colab": {
          "base_uri": "https://localhost:8080/"
        },
        "outputId": "d3fd98d7-27c7-485b-dc5c-7687df59e06b"
      },
      "source": [
        "# Checking for null values.\n",
        "#\n",
        "df.isnull().sum()"
      ],
      "execution_count": 97,
      "outputs": [
        {
          "output_type": "execute_result",
          "data": {
            "text/plain": [
              "Hours     0\n",
              "Scores    0\n",
              "dtype: int64"
            ]
          },
          "metadata": {
            "tags": []
          },
          "execution_count": 97
        }
      ]
    },
    {
      "cell_type": "markdown",
      "metadata": {
        "id": "7NLSNwIzBED2"
      },
      "source": [
        "**Check for duplicated Values**"
      ]
    },
    {
      "cell_type": "code",
      "metadata": {
        "id": "-EedZOUGBQej",
        "colab": {
          "base_uri": "https://localhost:8080/"
        },
        "outputId": "d689923b-b100-4821-e36a-3aafc4341da5"
      },
      "source": [
        "# Geting the sum of the duplicated variables in our data.\n",
        "#\n",
        "df.duplicated().sum()"
      ],
      "execution_count": 98,
      "outputs": [
        {
          "output_type": "execute_result",
          "data": {
            "text/plain": [
              "0"
            ]
          },
          "metadata": {
            "tags": []
          },
          "execution_count": 98
        }
      ]
    },
    {
      "cell_type": "markdown",
      "metadata": {
        "id": "qHZfwGTGBumA"
      },
      "source": [
        "## Exploratory Data Analysis"
      ]
    },
    {
      "cell_type": "markdown",
      "metadata": {
        "id": "J54Wsc5l94EC"
      },
      "source": [
        "> Plotting a bar plot representation of Score value counts"
      ]
    },
    {
      "cell_type": "code",
      "metadata": {
        "id": "gTyvnufBPJuM",
        "colab": {
          "base_uri": "https://localhost:8080/",
          "height": 284
        },
        "outputId": "6e09647c-d504-4829-841d-6b27d4a2d1a7"
      },
      "source": [
        "#visualizing the student score value counts\n",
        "df.Scores.value_counts()\n",
        "sns.countplot(y = 'Scores', data = df, palette = 'hls')\n",
        "plt.xlabel(\"Count\", fontsize=16)\n",
        "plt.ylabel(\"Scores\", fontsize=16)\n",
        "plt.show()"
      ],
      "execution_count": 99,
      "outputs": [
        {
          "output_type": "display_data",
          "data": {
            "image/png": "[encoded data removed]",
            "text/plain": [
              "<Figure size 432x288 with 1 Axes>"
            ]
          },
          "metadata": {
            "tags": [],
            "needs_background": "light"
          }
        }
      ]
    },
    {
      "cell_type": "markdown",
      "metadata": {
        "id": "AghCvds2MJqJ"
      },
      "source": [
        "**Observation**\n",
        "\n",
        "The score of 30 has the highest frequency of appearance"
      ]
    },
    {
      "cell_type": "code",
      "metadata": {
        "colab": {
          "base_uri": "https://localhost:8080/",
          "height": 284
        },
        "id": "PTFXqsFqGEAP",
        "outputId": "a7151c7e-f605-40ed-8a6a-2747445b94ff"
      },
      "source": [
        "#visualizing the study Hours value counts\n",
        "df.Hours.value_counts()\n",
        "sns.countplot(y = 'Hours', data = df, palette = 'hls')\n",
        "plt.xlabel(\"Count\", fontsize=16)\n",
        "plt.ylabel(\"Hours\", fontsize=16)\n",
        "plt.show()"
      ],
      "execution_count": 100,
      "outputs": [
        {
          "output_type": "display_data",
          "data": {
            "image/png": "[encoded data removed]",
            "text/plain": [
              "<Figure size 432x288 with 1 Axes>"
            ]
          },
          "metadata": {
            "tags": [],
            "needs_background": "light"
          }
        }
      ]
    },
    {
      "cell_type": "markdown",
      "metadata": {
        "id": "7erFbCcKKysa"
      },
      "source": [
        "**Observations**\n",
        "\n",
        "2.5 and 2.7 have highest frequency of appearance"
      ]
    },
    {
      "cell_type": "code",
      "metadata": {
        "id": "g-uRB_Aupm5x",
        "colab": {
          "base_uri": "https://localhost:8080/",
          "height": 295
        },
        "outputId": "20c0f549-2c66-4d95-f778-7101e65ab244"
      },
      "source": [
        "# Plotting the distribution of scores\n",
        "df.plot(x='Hours', y='Scores', style='o')  \n",
        "plt.title('Hours vs Percentage')  \n",
        "plt.xlabel('Hours Studied')  \n",
        "plt.ylabel('Percentage Score')  \n",
        "plt.show()"
      ],
      "execution_count": 101,
      "outputs": [
        {
          "output_type": "display_data",
          "data": {
            "image/png": "[encoded data removed]",
            "text/plain": [
              "<Figure size 432x288 with 1 Axes>"
            ]
          },
          "metadata": {
            "tags": [],
            "needs_background": "light"
          }
        }
      ]
    },
    {
      "cell_type": "markdown",
      "metadata": {
        "id": "6nl7TeegM9CV"
      },
      "source": [
        "**Observation**\n",
        "\n",
        "There is a positive linear relation between the number of hours studied and percentage of score."
      ]
    },
    {
      "cell_type": "markdown",
      "metadata": {
        "id": "aekHTaWmClyX"
      },
      "source": [
        "## Implementing the Solution"
      ]
    },
    {
      "cell_type": "markdown",
      "metadata": {
        "id": "mK--2P7ZM381"
      },
      "source": [
        "**Linear Regression**"
      ]
    },
    {
      "cell_type": "code",
      "metadata": {
        "id": "u4cRiY6OGBZh"
      },
      "source": [
        "from sklearn.model_selection import train_test_split\n",
        "from sklearn.preprocessing import StandardScaler\n",
        "from sklearn.linear_model import LinearRegression\n",
        "from sklearn.metrics import roc_curve, auc, log_loss, confusion_matrix,accuracy_score\n",
        "from sklearn import metrics"
      ],
      "execution_count": 102,
      "outputs": []
    },
    {
      "cell_type": "code",
      "metadata": {
        "id": "jKnJ2L_kd5NU"
      },
      "source": [
        "# Split the dataset into features and labels.\n",
        "#\n",
        "X = df.drop(['Scores'], axis=1)\n",
        "y = df['Scores']\n",
        "\n",
        "# Split the data into train and test.\n",
        "#\n",
        "X_train, X_test, y_train, y_test = train_test_split(X, y, test_size=0.30, random_state=40)\n"
      ],
      "execution_count": 103,
      "outputs": []
    },
    {
      "cell_type": "markdown",
      "metadata": {
        "id": "EnamfjPYHq8j"
      },
      "source": [
        "**Train the model**"
      ]
    },
    {
      "cell_type": "code",
      "metadata": {
        "id": "VtDgKVl7HoXD",
        "colab": {
          "base_uri": "https://localhost:8080/"
        },
        "outputId": "21ba887c-9e81-480e-e237-3928b5ea021b"
      },
      "source": [
        "lin_reg = LinearRegression(n_jobs=5, normalize=True)\n",
        "# Standardize the data.\n",
        "#sc = StandardScaler()\n",
        "#X_train = sc.fit_transform(X_train)\n",
        "#X_test = sc.transform(X_test)\n",
        "lin_reg.fit(X_train, y_train)"
      ],
      "execution_count": 104,
      "outputs": [
        {
          "output_type": "execute_result",
          "data": {
            "text/plain": [
              "LinearRegression(copy_X=True, fit_intercept=True, n_jobs=5, normalize=True)"
            ]
          },
          "metadata": {
            "tags": []
          },
          "execution_count": 104
        }
      ]
    },
    {
      "cell_type": "code",
      "metadata": {
        "colab": {
          "base_uri": "https://localhost:8080/",
          "height": 265
        },
        "id": "sXl9rgK56xrI",
        "outputId": "44f1d2ea-f0a1-43ad-c73b-63df103bbe61"
      },
      "source": [
        "# Plotting the regression line\n",
        "line = lin_reg.coef_*X+lin_reg.intercept_\n",
        "# Plotting for the test data\n",
        "plt.scatter(X, y)\n",
        "plt.plot(X, line);\n",
        "plt.show()"
      ],
      "execution_count": 105,
      "outputs": [
        {
          "output_type": "display_data",
          "data": {
            "image/png": "[encoded data removed]",
            "text/plain": [
              "<Figure size 432x288 with 1 Axes>"
            ]
          },
          "metadata": {
            "tags": [],
            "needs_background": "light"
          }
        }
      ]
    },
    {
      "cell_type": "markdown",
      "metadata": {
        "id": "moXBVBjEIWuX"
      },
      "source": [
        "**Predictions**"
      ]
    },
    {
      "cell_type": "code",
      "metadata": {
        "colab": {
          "base_uri": "https://localhost:8080/",
          "height": 300
        },
        "id": "R_XfS7x05naf",
        "outputId": "2fc31410-5a4f-43fa-dcee-c6c65c2b7ffc"
      },
      "source": [
        "# Comparing Actual vs Predicted\n",
        "y_pred_lin_df = pd.DataFrame({'Actual': y_test, 'Predicted': y_pred_lin})  \n",
        "y_pred_lin_df "
      ],
      "execution_count": 106,
      "outputs": [
        {
          "output_type": "execute_result",
          "data": {
            "text/html": [
              "<div>\n",
              "<style scoped>\n",
              "    .dataframe tbody tr th:only-of-type {\n",
              "        vertical-align: middle;\n",
              "    }\n",
              "\n",
              "    .dataframe tbody tr th {\n",
              "        vertical-align: top;\n",
              "    }\n",
              "\n",
              "    .dataframe thead th {\n",
              "        text-align: right;\n",
              "    }\n",
              "</style>\n",
              "<table border=\"1\" class=\"dataframe\">\n",
              "  <thead>\n",
              "    <tr style=\"text-align: right;\">\n",
              "      <th></th>\n",
              "      <th>Actual</th>\n",
              "      <th>Predicted</th>\n",
              "    </tr>\n",
              "  </thead>\n",
              "  <tbody>\n",
              "    <tr>\n",
              "      <th>15</th>\n",
              "      <td>95</td>\n",
              "      <td>90.279155</td>\n",
              "    </tr>\n",
              "    <tr>\n",
              "      <th>24</th>\n",
              "      <td>86</td>\n",
              "      <td>79.236617</td>\n",
              "    </tr>\n",
              "    <tr>\n",
              "      <th>14</th>\n",
              "      <td>17</td>\n",
              "      <td>11.977522</td>\n",
              "    </tr>\n",
              "    <tr>\n",
              "      <th>19</th>\n",
              "      <td>69</td>\n",
              "      <td>75.221148</td>\n",
              "    </tr>\n",
              "    <tr>\n",
              "      <th>13</th>\n",
              "      <td>42</td>\n",
              "      <td>34.062598</td>\n",
              "    </tr>\n",
              "    <tr>\n",
              "      <th>3</th>\n",
              "      <td>75</td>\n",
              "      <td>86.263686</td>\n",
              "    </tr>\n",
              "    <tr>\n",
              "      <th>21</th>\n",
              "      <td>54</td>\n",
              "      <td>49.120604</td>\n",
              "    </tr>\n",
              "    <tr>\n",
              "      <th>2</th>\n",
              "      <td>27</td>\n",
              "      <td>33.058731</td>\n",
              "    </tr>\n",
              "  </tbody>\n",
              "</table>\n",
              "</div>"
            ],
            "text/plain": [
              "    Actual  Predicted\n",
              "15      95  90.279155\n",
              "24      86  79.236617\n",
              "14      17  11.977522\n",
              "19      69  75.221148\n",
              "13      42  34.062598\n",
              "3       75  86.263686\n",
              "21      54  49.120604\n",
              "2       27  33.058731"
            ]
          },
          "metadata": {
            "tags": []
          },
          "execution_count": 106
        }
      ]
    },
    {
      "cell_type": "markdown",
      "metadata": {
        "id": "74_68Wz_HBf0"
      },
      "source": [
        "**Visualising the results**"
      ]
    },
    {
      "cell_type": "code",
      "metadata": {
        "colab": {
          "base_uri": "https://localhost:8080/",
          "height": 295
        },
        "id": "ZpNie0yN4BP_",
        "outputId": "62b7ad29-75c9-4f5c-abb5-7b49c8e491f0"
      },
      "source": [
        "# plot between predicted scores and Y_test\n",
        "import numpy as np\n",
        "x_axis = np.array(range(0, y_pred_lin_df.shape[0]))\n",
        "plt.plot(x_axis, y_pred_lin, linestyle=\"--\", marker=\"o\", alpha=0.7, color='r', label=\"predictions\")\n",
        "plt.plot(x_axis, y_test, linestyle=\"--\", marker=\"o\", alpha=0.7, color='g', label=\"y_test\")\n",
        "plt.xlabel('marks')\n",
        "plt.ylabel('Scores')\n",
        "plt.title('predicted_marks_vs_ytest_scores')\n",
        "plt.legend(loc='lower right')\n",
        "plt.show()\n",
        "plt.savefig(\"predicted_marks_vs_ytest_scores.png\")\n",
        "plt.clf()\n",
        "plt.close()"
      ],
      "execution_count": 107,
      "outputs": [
        {
          "output_type": "display_data",
          "data": {
            "image/png": "[encoded data removed]",
            "text/plain": [
              "<Figure size 432x288 with 1 Axes>"
            ]
          },
          "metadata": {
            "tags": [],
            "needs_background": "light"
          }
        }
      ]
    },
    {
      "cell_type": "markdown",
      "metadata": {
        "id": "-5NEAB7QGtmh"
      },
      "source": [
        "#Evaluating the model"
      ]
    },
    {
      "cell_type": "code",
      "metadata": {
        "id": "B6-I-WUyIQHa",
        "colab": {
          "base_uri": "https://localhost:8080/"
        },
        "outputId": "35959f51-3f87-4bdf-bcbe-c4f15c4d7b91"
      },
      "source": [
        "y_pred_lin = lin_reg.predict(X_test)\n",
        "\n",
        "# Mean Absolute Error\n",
        "# Mean Squared Error\n",
        "# Root Mean Squared Error\n",
        "#\n",
        "print('Mean Absolute Error:', metrics.mean_absolute_error(y_test, y_pred_lin))  \n",
        "print('Mean Squared Error:', metrics.mean_squared_error(y_test, y_pred_lin))  \n",
        "print('Root Mean Squared Error:', np.sqrt(metrics.mean_squared_error(y_test, y_pred_lin)))\n"
      ],
      "execution_count": 108,
      "outputs": [
        {
          "output_type": "stream",
          "text": [
            "Mean Absolute Error: 6.608383730582239\n",
            "Mean Squared Error: 47.79342603239813\n",
            "Root Mean Squared Error: 6.913278963878004\n"
          ],
          "name": "stdout"
        }
      ]
    },
    {
      "cell_type": "code",
      "metadata": {
        "id": "JQ4iWzgKB8oE",
        "colab": {
          "base_uri": "https://localhost:8080/"
        },
        "outputId": "72670fe1-d664-4bc9-89d6-be6d43676ced"
      },
      "source": [
        "# R2 Score\n",
        "print(f\"R2 Score: {metrics.r2_score(y_test, y_pred_lin)*100}%\")"
      ],
      "execution_count": 109,
      "outputs": [
        {
          "output_type": "stream",
          "text": [
            "R2 Score: 93.01887648961889%\n"
          ],
          "name": "stdout"
        }
      ]
    },
    {
      "cell_type": "markdown",
      "metadata": {
        "id": "UzeaLhgWzubX"
      },
      "source": [
        "#Follow up questions\n",
        "\n",
        "a). Did we have the right data?\n",
        "\n",
        "Yes\n",
        "\n",
        "b). Do we need other data to answer our question?\n",
        "\n",
        "Yes,need more data to improve model performance\n",
        "\n",
        "c). Did we have the right question?\n",
        "\n",
        "Yes"
      ]
    }
  ]
}